{
 "cells": [
  {
   "cell_type": "code",
   "execution_count": 1,
   "metadata": {},
   "outputs": [],
   "source": [
    "from fastai import *\n",
    "from fastai.text import *"
   ]
  },
  {
   "cell_type": "code",
   "execution_count": 2,
   "metadata": {},
   "outputs": [],
   "source": [
    "import numpy as np\n",
    "import pandas as pd\n",
    "import json\n"
   ]
  },
  {
   "cell_type": "code",
   "execution_count": 3,
   "metadata": {},
   "outputs": [],
   "source": [
    "def squad_json_to_dataframe_train(input_file_path, record_path = ['data','paragraphs','qas','answers'],verbose = 1):\n",
    "    \"\"\"\n",
    "    input_file_path: path to the squad json file.\n",
    "    record_path: path to deepest level in json file default value is\n",
    "    ['data','paragraphs','qas','answers']\n",
    "    verbose: 0 to suppress it default is 1\n",
    "    \"\"\"\n",
    "    if verbose:\n",
    "        print(\"Reading the json file\")    \n",
    "    file = json.loads(open(input_file_path).read())\n",
    "    if verbose:\n",
    "        print(\"processing...\")\n",
    "    # parsing different level's in the json file\n",
    "    js = pd.io.json.json_normalize(file , record_path )\n",
    "    m = pd.io.json.json_normalize(file, record_path[:-1] )\n",
    "    r = pd.io.json.json_normalize(file,record_path[:-2])\n",
    "    \n",
    "    #combining it into single dataframe\n",
    "    idx = np.repeat(r['context'].values, r.qas.str.len())\n",
    "    ndx  = np.repeat(m['id'].values,m['answers'].str.len())\n",
    "    m['context'] = idx\n",
    "    js['q_idx'] = ndx\n",
    "    main = pd.concat([ m[['id','question','context']].set_index('id'),js.set_index('q_idx')],1,sort=False).reset_index()\n",
    "    main['c_id'] = main['context'].factorize()[0]\n",
    "    if verbose:\n",
    "        print(\"shape of the dataframe is {}\".format(main.shape))\n",
    "        print(\"Done\")\n",
    "    return main"
   ]
  },
  {
   "cell_type": "code",
   "execution_count": 4,
   "metadata": {},
   "outputs": [
    {
     "name": "stdout",
     "output_type": "stream",
     "text": [
      "Reading the json file\n",
      "processing...\n",
      "shape of the dataframe is (130319, 6)\n",
      "Done\n"
     ]
    }
   ],
   "source": [
    "# training data\n",
    "torch.cuda.empty_cache()\n",
    "input_file_path = 'dataset/train-v2.0.json'\n",
    "record_path = ['data','paragraphs','qas','answers']\n",
    "train_data = squad_json_to_dataframe_train(input_file_path=input_file_path,record_path=record_path)"
   ]
  },
  {
   "cell_type": "code",
   "execution_count": 5,
   "metadata": {},
   "outputs": [
    {
     "data": {
      "text/plain": [
       "(20000, 6)"
      ]
     },
     "execution_count": 5,
     "metadata": {},
     "output_type": "execute_result"
    }
   ],
   "source": [
    "train_data = train_data.iloc[0:20000].copy()\n",
    "train_data.shape\n",
    "#df"
   ]
  },
  {
   "cell_type": "code",
   "execution_count": 6,
   "metadata": {},
   "outputs": [
    {
     "data": {
      "text/html": [
       "<div>\n",
       "<style scoped>\n",
       "    .dataframe tbody tr th:only-of-type {\n",
       "        vertical-align: middle;\n",
       "    }\n",
       "\n",
       "    .dataframe tbody tr th {\n",
       "        vertical-align: top;\n",
       "    }\n",
       "\n",
       "    .dataframe thead th {\n",
       "        text-align: right;\n",
       "    }\n",
       "</style>\n",
       "<table border=\"1\" class=\"dataframe\">\n",
       "  <thead>\n",
       "    <tr style=\"text-align: right;\">\n",
       "      <th></th>\n",
       "      <th>index</th>\n",
       "      <th>question</th>\n",
       "      <th>context</th>\n",
       "      <th>answer_start</th>\n",
       "      <th>text</th>\n",
       "      <th>c_id</th>\n",
       "    </tr>\n",
       "  </thead>\n",
       "  <tbody>\n",
       "    <tr>\n",
       "      <th>0</th>\n",
       "      <td>56be85543aeaaa14008c9063</td>\n",
       "      <td>When did Beyonce start becoming popular?</td>\n",
       "      <td>Beyoncé Giselle Knowles-Carter (/biːˈjɒnseɪ/ b...</td>\n",
       "      <td>269.0</td>\n",
       "      <td>in the late 1990s</td>\n",
       "      <td>0</td>\n",
       "    </tr>\n",
       "    <tr>\n",
       "      <th>1</th>\n",
       "      <td>56be85543aeaaa14008c9065</td>\n",
       "      <td>What areas did Beyonce compete in when she was...</td>\n",
       "      <td>Beyoncé Giselle Knowles-Carter (/biːˈjɒnseɪ/ b...</td>\n",
       "      <td>207.0</td>\n",
       "      <td>singing and dancing</td>\n",
       "      <td>0</td>\n",
       "    </tr>\n",
       "    <tr>\n",
       "      <th>2</th>\n",
       "      <td>56be85543aeaaa14008c9066</td>\n",
       "      <td>When did Beyonce leave Destiny's Child and bec...</td>\n",
       "      <td>Beyoncé Giselle Knowles-Carter (/biːˈjɒnseɪ/ b...</td>\n",
       "      <td>526.0</td>\n",
       "      <td>2003</td>\n",
       "      <td>0</td>\n",
       "    </tr>\n",
       "    <tr>\n",
       "      <th>3</th>\n",
       "      <td>56bf6b0f3aeaaa14008c9601</td>\n",
       "      <td>In what city and state did Beyonce  grow up?</td>\n",
       "      <td>Beyoncé Giselle Knowles-Carter (/biːˈjɒnseɪ/ b...</td>\n",
       "      <td>166.0</td>\n",
       "      <td>Houston, Texas</td>\n",
       "      <td>0</td>\n",
       "    </tr>\n",
       "    <tr>\n",
       "      <th>4</th>\n",
       "      <td>56bf6b0f3aeaaa14008c9602</td>\n",
       "      <td>In which decade did Beyonce become famous?</td>\n",
       "      <td>Beyoncé Giselle Knowles-Carter (/biːˈjɒnseɪ/ b...</td>\n",
       "      <td>276.0</td>\n",
       "      <td>late 1990s</td>\n",
       "      <td>0</td>\n",
       "    </tr>\n",
       "  </tbody>\n",
       "</table>\n",
       "</div>"
      ],
      "text/plain": [
       "                      index  \\\n",
       "0  56be85543aeaaa14008c9063   \n",
       "1  56be85543aeaaa14008c9065   \n",
       "2  56be85543aeaaa14008c9066   \n",
       "3  56bf6b0f3aeaaa14008c9601   \n",
       "4  56bf6b0f3aeaaa14008c9602   \n",
       "\n",
       "                                            question  \\\n",
       "0           When did Beyonce start becoming popular?   \n",
       "1  What areas did Beyonce compete in when she was...   \n",
       "2  When did Beyonce leave Destiny's Child and bec...   \n",
       "3      In what city and state did Beyonce  grow up?    \n",
       "4         In which decade did Beyonce become famous?   \n",
       "\n",
       "                                             context  answer_start  \\\n",
       "0  Beyoncé Giselle Knowles-Carter (/biːˈjɒnseɪ/ b...         269.0   \n",
       "1  Beyoncé Giselle Knowles-Carter (/biːˈjɒnseɪ/ b...         207.0   \n",
       "2  Beyoncé Giselle Knowles-Carter (/biːˈjɒnseɪ/ b...         526.0   \n",
       "3  Beyoncé Giselle Knowles-Carter (/biːˈjɒnseɪ/ b...         166.0   \n",
       "4  Beyoncé Giselle Knowles-Carter (/biːˈjɒnseɪ/ b...         276.0   \n",
       "\n",
       "                  text  c_id  \n",
       "0    in the late 1990s     0  \n",
       "1  singing and dancing     0  \n",
       "2                 2003     0  \n",
       "3       Houston, Texas     0  \n",
       "4           late 1990s     0  "
      ]
     },
     "execution_count": 6,
     "metadata": {},
     "output_type": "execute_result"
    }
   ],
   "source": [
    "train_data.head()"
   ]
  },
  {
   "cell_type": "code",
   "execution_count": 7,
   "metadata": {},
   "outputs": [],
   "source": [
    "tran_questions = train_data['question']"
   ]
  },
  {
   "cell_type": "code",
   "execution_count": 8,
   "metadata": {},
   "outputs": [],
   "source": [
    "def parallel_trees(m, fn, n_jobs=16):\n",
    "    return list(ThreadPoolExecutor(n_jobs).map(fn, m.estimators_))"
   ]
  },
  {
   "cell_type": "code",
   "execution_count": 9,
   "metadata": {},
   "outputs": [],
   "source": [
    "valid_pct = 0.05 #validation percent\n",
    "df = train_data.iloc[np.random.permutation(len(train_data))]\n",
    "cut = int(valid_pct * len(train_data)) + 1\n",
    "train_df, valid_df = df[cut:], df[:cut]"
   ]
  },
  {
   "cell_type": "code",
   "execution_count": 10,
   "metadata": {},
   "outputs": [],
   "source": [
    "data_lm = TextLMDataBunch.from_df('data', train_df, valid_df, text_cols='question')"
   ]
  },
  {
   "cell_type": "code",
   "execution_count": 11,
   "metadata": {
    "scrolled": true
   },
   "outputs": [
    {
     "data": {
      "text/html": [
       "Total time: 00:14 <p><table border=\"1\" class=\"dataframe\">\n",
       "  <thead>\n",
       "    <tr style=\"text-align: left;\">\n",
       "      <th>epoch</th>\n",
       "      <th>train_loss</th>\n",
       "      <th>valid_loss</th>\n",
       "      <th>accuracy</th>\n",
       "    </tr>\n",
       "  </thead>\n",
       "  <tbody>\n",
       "    <tr>\n",
       "      <td>1</td>\n",
       "      <td>4.242163</td>\n",
       "      <td>3.341255</td>\n",
       "      <td>0.429657</td>\n",
       "    </tr>\n",
       "  </tbody>\n",
       "</table>"
      ],
      "text/plain": [
       "<IPython.core.display.HTML object>"
      ]
     },
     "metadata": {},
     "output_type": "display_data"
    }
   ],
   "source": [
    "learn = language_model_learner(data_lm, pretrained_model=URLs.WT103, drop_mult=0.5)\n",
    "learn.fit_one_cycle(1, 1e-2)"
   ]
  },
  {
   "cell_type": "code",
   "execution_count": 12,
   "metadata": {},
   "outputs": [
    {
     "data": {
      "text/html": [
       "Total time: 00:19 <p><table border=\"1\" class=\"dataframe\">\n",
       "  <thead>\n",
       "    <tr style=\"text-align: left;\">\n",
       "      <th>epoch</th>\n",
       "      <th>train_loss</th>\n",
       "      <th>valid_loss</th>\n",
       "      <th>accuracy</th>\n",
       "    </tr>\n",
       "  </thead>\n",
       "  <tbody>\n",
       "    <tr>\n",
       "      <td>1</td>\n",
       "      <td>3.135643</td>\n",
       "      <td>2.849936</td>\n",
       "      <td>0.490649</td>\n",
       "    </tr>\n",
       "  </tbody>\n",
       "</table>"
      ],
      "text/plain": [
       "<IPython.core.display.HTML object>"
      ]
     },
     "metadata": {},
     "output_type": "display_data"
    }
   ],
   "source": [
    "learn.unfreeze()\n",
    "learn.fit_one_cycle(1, 1e-3)"
   ]
  },
  {
   "cell_type": "code",
   "execution_count": 13,
   "metadata": {},
   "outputs": [],
   "source": [
    "wd=1e-7\n",
    "lr=1e-3\n",
    "lrs = lr"
   ]
  },
  {
   "cell_type": "code",
   "execution_count": 14,
   "metadata": {
    "scrolled": true
   },
   "outputs": [
    {
     "data": {
      "text/html": [
       "Total time: 04:48 <p><table border=\"1\" class=\"dataframe\">\n",
       "  <thead>\n",
       "    <tr style=\"text-align: left;\">\n",
       "      <th>epoch</th>\n",
       "      <th>train_loss</th>\n",
       "      <th>valid_loss</th>\n",
       "      <th>accuracy</th>\n",
       "    </tr>\n",
       "  </thead>\n",
       "  <tbody>\n",
       "    <tr>\n",
       "      <td>1</td>\n",
       "      <td>2.852762</td>\n",
       "      <td>2.675060</td>\n",
       "      <td>0.510437</td>\n",
       "    </tr>\n",
       "    <tr>\n",
       "      <td>2</td>\n",
       "      <td>2.712082</td>\n",
       "      <td>2.590513</td>\n",
       "      <td>0.520364</td>\n",
       "    </tr>\n",
       "    <tr>\n",
       "      <td>3</td>\n",
       "      <td>2.586449</td>\n",
       "      <td>2.535226</td>\n",
       "      <td>0.525519</td>\n",
       "    </tr>\n",
       "    <tr>\n",
       "      <td>4</td>\n",
       "      <td>2.483176</td>\n",
       "      <td>2.492414</td>\n",
       "      <td>0.529681</td>\n",
       "    </tr>\n",
       "    <tr>\n",
       "      <td>5</td>\n",
       "      <td>2.395777</td>\n",
       "      <td>2.464091</td>\n",
       "      <td>0.532155</td>\n",
       "    </tr>\n",
       "    <tr>\n",
       "      <td>6</td>\n",
       "      <td>2.311199</td>\n",
       "      <td>2.435020</td>\n",
       "      <td>0.537886</td>\n",
       "    </tr>\n",
       "    <tr>\n",
       "      <td>7</td>\n",
       "      <td>2.232200</td>\n",
       "      <td>2.420893</td>\n",
       "      <td>0.537826</td>\n",
       "    </tr>\n",
       "    <tr>\n",
       "      <td>8</td>\n",
       "      <td>2.152505</td>\n",
       "      <td>2.411088</td>\n",
       "      <td>0.541818</td>\n",
       "    </tr>\n",
       "    <tr>\n",
       "      <td>9</td>\n",
       "      <td>2.084400</td>\n",
       "      <td>2.396587</td>\n",
       "      <td>0.541928</td>\n",
       "    </tr>\n",
       "    <tr>\n",
       "      <td>10</td>\n",
       "      <td>2.023641</td>\n",
       "      <td>2.392487</td>\n",
       "      <td>0.543678</td>\n",
       "    </tr>\n",
       "    <tr>\n",
       "      <td>11</td>\n",
       "      <td>1.956783</td>\n",
       "      <td>2.395674</td>\n",
       "      <td>0.543738</td>\n",
       "    </tr>\n",
       "    <tr>\n",
       "      <td>12</td>\n",
       "      <td>1.890112</td>\n",
       "      <td>2.392896</td>\n",
       "      <td>0.544583</td>\n",
       "    </tr>\n",
       "    <tr>\n",
       "      <td>13</td>\n",
       "      <td>1.830470</td>\n",
       "      <td>2.404418</td>\n",
       "      <td>0.546573</td>\n",
       "    </tr>\n",
       "    <tr>\n",
       "      <td>14</td>\n",
       "      <td>1.768175</td>\n",
       "      <td>2.396505</td>\n",
       "      <td>0.547418</td>\n",
       "    </tr>\n",
       "    <tr>\n",
       "      <td>15</td>\n",
       "      <td>1.706875</td>\n",
       "      <td>2.414672</td>\n",
       "      <td>0.546371</td>\n",
       "    </tr>\n",
       "  </tbody>\n",
       "</table>"
      ],
      "text/plain": [
       "<IPython.core.display.HTML object>"
      ]
     },
     "metadata": {},
     "output_type": "display_data"
    }
   ],
   "source": [
    "learn.fit(15,lrs, wd)"
   ]
  },
  {
   "cell_type": "code",
   "execution_count": 15,
   "metadata": {},
   "outputs": [],
   "source": [
    "number_of_ideas = 100\n",
    "ideas_counter = 0\n",
    "all_ideas = []\n",
    "\n",
    "for i in range(100):\n",
    "    idea = learn.predict(\"xxbos xxfld 1\", n_words=20, temperature=0.8)\n",
    "    ideas = idea.split(\"xxbos xxfld 1\")\n",
    "    ideas = ideas[1:-1]\n",
    "    \n",
    "    for idea in ideas:\n",
    "        idea = idea.replace(\"xxbos xxfld 1 \",\"\").strip()\n",
    "        idea = idea.replace(\"xxmaj \",\"\").strip()\n",
    "        if(idea):\n",
    "            all_ideas.append(idea)\n",
    "            ideas_counter = ideas_counter+1\n",
    "            \n",
    "    if ideas_counter > number_of_ideas:\n",
    "        break"
   ]
  },
  {
   "cell_type": "code",
   "execution_count": 16,
   "metadata": {},
   "outputs": [
    {
     "data": {
      "text/plain": [
       "[\"when did youlou decide he would run a date 's preaspirated clock ?\",\n",
       " 'what commercial facility was responsible for the price of automobile ?',\n",
       " 'in how many countries are there in 2010 ?',\n",
       " 'xxup cbs and columbia records renamed to whom ?',\n",
       " \"what percentage of plymouth 's residents are german or chinese ?\",\n",
       " 'what process of mass production is most of the remaining parts of ectosymbiosis ?',\n",
       " 'how old was bell when he went to canada ?',\n",
       " 'where is the atomic bomb detonated ?',\n",
       " 'who has the power to issue gifts ?',\n",
       " 'what talk show did american idol first air on american idol ?',\n",
       " 'who described the film as \" a musical production that encourages all gets back \" ?',\n",
       " 'fleming wrote which two extra main missions ?',\n",
       " 'what is the name of the single released by universal pictures ?',\n",
       " 'what made the spanish used in and around estonians ?',\n",
       " \"beyonce 's voice span is how ?\",\n",
       " 'what is the name for the italian 2 gender bond ?',\n",
       " 'what language is the congo mostly composed of ?',\n",
       " 'how many documents were recorded in the museum of bell in 2006 ?',\n",
       " 'when is the water used to power a structure built created by ?',\n",
       " 'during the period of time what language does estonian have ?',\n",
       " 'below 100 pub chain offices is what rank ?',\n",
       " 'roughly what span of the xxup ussr does xxup unfpa operate ?',\n",
       " 'what is a catalan faith ?',\n",
       " \"who 's death was prime minister ?\",\n",
       " 'boston is the only state where boston can avoid christianity ?',\n",
       " \"where are the individual versions of chopin 's music referred as ?\",\n",
       " 'what is middle persian being used in ?',\n",
       " 'at what age did chopin begin drawing media for the netherlands ?',\n",
       " 'what happened to the c dynasty ?',\n",
       " 'what order did alexander washington codes spend a great deal of time ?',\n",
       " 'what company did apple introduce japan use in 1998 ?',\n",
       " 'who started launching the replacement vehicle ?',\n",
       " 'what did catalan have with more food and ethnic silicate ?',\n",
       " 'what demographic group does the canadian forces not charge ?',\n",
       " \"universal 's production investigated which project ?\",\n",
       " 'how many days before the premier legally return to boston ?',\n",
       " 'historians say that there is a precedent for catalan as a plural ?',\n",
       " 'shot in beijing were taken off of which location ?',\n",
       " 'from whom did frédéric perform his final concert ?',\n",
       " 'how do there words and descriptions of the history of eukaryotes ?',\n",
       " 'what does xxup found stand for ?',\n",
       " 'what building was associated with the quake ?',\n",
       " 'domestic idol featuring idol made its debut on top in what other format ?',\n",
       " 'what three dialects are found in western malta ?',\n",
       " 'how many acres of land does help help donation 2004 ?',\n",
       " 'what genome is no longer considered ?',\n",
       " 'in sutras , who does supreme court make it the highest known ?',\n",
       " 'who did not sample the pop songs found on american idol ?',\n",
       " 'in what decade did functionality last \" bilabial lines \" replace ?',\n",
       " 'the permanent atlantic broadcasting system consists of how many satellites ?',\n",
       " 'do people not respond to what giving you inclusion ?',\n",
       " 'when will a significant collection of architectural materials come into being ?',\n",
       " 'who makes the first truly non - positive law school in xxup nyc ?',\n",
       " \"what people know about the xxup bbc 's news base releases in 1990 ?\",\n",
       " 'what year did the supreme court stop ruling against heresy ?',\n",
       " 'who spoke on their double day concerts in london as of 1960 ?',\n",
       " \"what did several of schwarzenegger 's friends depart after their death ?\",\n",
       " 'what did xxup riba produce in 2007 ?',\n",
       " \"where did chopin play for his family 's father ?\",\n",
       " 'beyonce provided four licenses to which group ?',\n",
       " 'what was recall signing in august 2014 ?',\n",
       " 'who was a polish leader ?',\n",
       " 'about how many awards were the broadcast airing for that seasons ?',\n",
       " 'which representatives will be allowed to serve as federal agencies ?',\n",
       " 'what did a bavarian study by primary himself in 1972 ?',\n",
       " 'why were zeeland and gametrailers sat ?',\n",
       " 'when was the first stop for the leg awarded ?',\n",
       " 'along with taverns , what made the beer known as in english ?',\n",
       " 'which political science professor did netbula and who strongly transfer their funding to ?',\n",
       " 'what government was the russian federation fighting against during this military period ?',\n",
       " 'what piece has sold at least seven million people ?',\n",
       " 'which country was first to the island in 1964 ?',\n",
       " 'all dogs with what are eyes less than what percentage of a white dog ?',\n",
       " 'who did chopin sing on 11 september 1833 ?',\n",
       " \"what laws are n't supposed to allow them to be used in the remake ?\",\n",
       " 'during the transition from hunting and gathering to agriculture , what is another notable industry ?',\n",
       " \"what were the new tracks rejected by kanye 's greatest potential royalty ?\",\n",
       " '\" bell and him \" were selected after what irish civil war ?',\n",
       " 'what company did beyoncé create for herself ?',\n",
       " \"what service was n't built in galileo ?\"]"
      ]
     },
     "execution_count": 16,
     "metadata": {},
     "output_type": "execute_result"
    }
   ],
   "source": [
    "all_ideas"
   ]
  },
  {
   "cell_type": "code",
   "execution_count": null,
   "metadata": {},
   "outputs": [],
   "source": []
  }
 ],
 "metadata": {
  "kernelspec": {
   "display_name": "Python 3",
   "language": "python",
   "name": "python3"
  },
  "language_info": {
   "codemirror_mode": {
    "name": "ipython",
    "version": 3
   },
   "file_extension": ".py",
   "mimetype": "text/x-python",
   "name": "python",
   "nbconvert_exporter": "python",
   "pygments_lexer": "ipython3",
   "version": "3.7.1"
  }
 },
 "nbformat": 4,
 "nbformat_minor": 2
}
